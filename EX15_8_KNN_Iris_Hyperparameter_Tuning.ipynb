{
 "cells": [
  {
   "cell_type": "code",
   "execution_count": null,
   "id": "1e2b5063",
   "metadata": {},
   "outputs": [],
   "source": [
    "# If needed (usually not in school labs), uncomment to install:\n",
    "# !pip install scikit-learn matplotlib pandas\n",
    "\n",
    "from sklearn.datasets import load_iris\n",
    "from sklearn.neighbors import KNeighborsClassifier\n",
    "from sklearn.model_selection import cross_val_score, GridSearchCV\n",
    "import numpy as np\n",
    "import pandas as pd\n",
    "import matplotlib.pyplot as plt\n",
    "\n",
    "%matplotlib inline\n"
   ]
  },
  {
   "cell_type": "code",
   "execution_count": null,
   "id": "a6cf9436",
   "metadata": {},
   "outputs": [],
   "source": [
    "X, y = load_iris(return_X_y=True)\n",
    "print(\"X shape:\", X.shape)\n",
    "print(\"y shape:\", y.shape)\n",
    "print(\"Class distribution:\", np.unique(y, return_counts=True))\n"
   ]
  },
  {
   "cell_type": "code",
   "execution_count": null,
   "id": "ad985614",
   "metadata": {},
   "outputs": [],
   "source": [
    "k_range = range(1, 32)  # 1..31 inclusive\n",
    "mean_scores = []\n",
    "std_scores = []\n",
    "\n",
    "for k in k_range:\n",
    "    knn = KNeighborsClassifier(n_neighbors=k)\n",
    "    scores = cross_val_score(knn, X, y, cv=10)  # 10-fold CV (as required)\n",
    "    mean_scores.append(scores.mean())\n",
    "    std_scores.append(scores.std())\n",
    "\n",
    "best_k = list(k_range)[int(np.argmax(mean_scores))]\n",
    "best_acc = max(mean_scores)\n",
    "\n",
    "print(f\"Best k (by 10-fold CV mean accuracy) = {best_k}\")\n",
    "print(f\"Best mean accuracy = {best_acc:.4f}\")\n"
   ]
  },
  {
   "cell_type": "code",
   "execution_count": null,
   "id": "d7d59fea",
   "metadata": {},
   "outputs": [],
   "source": [
    "plt.figure()\n",
    "plt.plot(list(k_range), mean_scores, marker='o')\n",
    "plt.xlabel(\"Value of K for KNN\")\n",
    "plt.ylabel(\"Cross-Validated Accuracy\")\n",
    "plt.title(\"KNN (Iris) — CV=10 accuracy for K=1..31\")\n",
    "plt.axvline(best_k, linestyle='--')   # marks the best k\n",
    "plt.show()\n"
   ]
  },
  {
   "cell_type": "code",
   "execution_count": null,
   "id": "5be67f65",
   "metadata": {},
   "outputs": [],
   "source": [
    "low = max(1, best_k - 3)\n",
    "high = min(31, best_k + 3)\n",
    "zoom_ks = list(range(low, high + 1))\n",
    "zoom_scores = [mean_scores[k-1] for k in zoom_ks]\n",
    "\n",
    "plt.figure()\n",
    "plt.plot(zoom_ks, zoom_scores, marker='o')\n",
    "plt.xlabel(\"Value of K for KNN\")\n",
    "plt.ylabel(\"Cross-Validated Accuracy\")\n",
    "plt.title(f\"Zoomed view (K={low}..{high}) around best k={best_k}\")\n",
    "plt.axvline(best_k, linestyle='--')\n",
    "plt.show()\n"
   ]
  },
  {
   "cell_type": "code",
   "execution_count": null,
   "id": "b4a086ce",
   "metadata": {},
   "outputs": [],
   "source": [
    "param_grid = {'n_neighbors': list(k_range)}\n",
    "grid = GridSearchCV(KNeighborsClassifier(), param_grid, cv=10)\n",
    "grid.fit(X, y)\n",
    "\n",
    "print(\"GridSearchCV best params:\", grid.best_params_)\n",
    "print(f\"GridSearchCV best CV accuracy: {grid.best_score_:.4f}\")\n"
   ]
  },
  {
   "cell_type": "code",
   "execution_count": null,
   "id": "7f3db53a",
   "metadata": {},
   "outputs": [],
   "source": [
    "df = pd.DataFrame({\n",
    "    'k': list(k_range),\n",
    "    'cv_mean_accuracy': mean_scores,\n",
    "    'cv_std': std_scores,\n",
    "})\n",
    "df.head()\n",
    "# Save alongside your notebook if you want:\n",
    "# df.to_csv(\"knn_iris_cv_results.csv\", index=False)\n",
    "  "
   ]
  },
  {
   "cell_type": "code",
   "execution_count": null,
   "id": "9e500a87",
   "metadata": {},
   "outputs": [],
   "source": []
  }
 ],
 "metadata": {
  "kernelspec": {
   "display_name": "Python 3 (ipykernel)",
   "language": "python",
   "name": "python3"
  },
  "language_info": {
   "codemirror_mode": {
    "name": "ipython",
    "version": 3
   },
   "file_extension": ".py",
   "mimetype": "text/x-python",
   "name": "python",
   "nbconvert_exporter": "python",
   "pygments_lexer": "ipython3",
   "version": "3.11.5"
  }
 },
 "nbformat": 4,
 "nbformat_minor": 5
}
